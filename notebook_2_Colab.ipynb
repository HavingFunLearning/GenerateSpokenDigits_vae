{
  "cells": [
    {
      "cell_type": "markdown",
      "metadata": {
        "id": "view-in-github",
        "colab_type": "text"
      },
      "source": [
        "<a href=\"https://colab.research.google.com/github/SimBoex/GenerateSpokenDigits_vae/blob/main/notebook_2_Colab.ipynb\" target=\"_parent\"><img src=\"https://colab.research.google.com/assets/colab-badge.svg\" alt=\"Open In Colab\"/></a>"
      ]
    },
    {
      "cell_type": "code",
      "execution_count": 1,
      "metadata": {
        "id": "7jSoes2TCoae"
      },
      "outputs": [],
      "source": [
        "'''\n",
        "Remember to use only tensorflow (otherwise problems with keras)\n",
        "'''\n",
        "import numpy as np\n",
        "import pandas as pd\n",
        "import matplotlib.pyplot as plt\n",
        "import glob\n",
        "import librosa\n",
        "import tensorflow.keras.backend as K\n",
        "import IPython.display as ipd\n",
        "import pickle"
      ]
    },
    {
      "cell_type": "code",
      "execution_count": 2,
      "metadata": {
        "colab": {
          "base_uri": "https://localhost:8080/"
        },
        "id": "7yYzMEDPCoaf",
        "outputId": "0481901e-e7a2-49bd-ce54-674ae08837bd"
      },
      "outputs": [
        {
          "output_type": "stream",
          "name": "stdout",
          "text": [
            "Mounted at /content/drive\n"
          ]
        }
      ],
      "source": [
        "from google.colab import drive\n",
        "drive.mount('/content/drive')\n"
      ]
    },
    {
      "cell_type": "code",
      "execution_count": 3,
      "metadata": {
        "id": "4oev5FplCxoB"
      },
      "outputs": [],
      "source": [
        "!mkdir -p ~/ .kaggle\n"
      ]
    },
    {
      "cell_type": "code",
      "execution_count": 4,
      "metadata": {
        "id": "xTbO9WUwCzRw"
      },
      "outputs": [],
      "source": [
        "!cp -r /content/drive/MyDrive/kaggle.json ~/ .kaggle/\n"
      ]
    },
    {
      "cell_type": "code",
      "execution_count": 5,
      "metadata": {
        "id": "sAx27zHFC3CH"
      },
      "outputs": [],
      "source": [
        "!chmod 600 ~/ .kaggle/kaggle.json\n"
      ]
    },
    {
      "cell_type": "code",
      "execution_count": 6,
      "metadata": {
        "colab": {
          "base_uri": "https://localhost:8080/"
        },
        "id": "SnKLnwSSC8IK",
        "outputId": "566c9484-be67-4d69-9e8d-fcb268a4d482"
      },
      "outputs": [
        {
          "output_type": "stream",
          "name": "stdout",
          "text": [
            "Dataset URL: https://www.kaggle.com/datasets/joserzapata/free-spoken-digit-dataset-fsdd\n",
            "License(s): CC-BY-SA-4.0\n",
            "Downloading free-spoken-digit-dataset-fsdd.zip to /content\n",
            " 97% 15.0M/15.5M [00:01<00:00, 13.9MB/s]\n",
            "100% 15.5M/15.5M [00:01<00:00, 8.44MB/s]\n"
          ]
        }
      ],
      "source": [
        "!kaggle datasets download -d joserzapata/free-spoken-digit-dataset-fsdd"
      ]
    },
    {
      "cell_type": "code",
      "execution_count": null,
      "metadata": {
        "id": "39JrPwefC_hm"
      },
      "outputs": [],
      "source": [
        "!unzip free-spoken-digit-dataset-fsdd.zip"
      ]
    },
    {
      "cell_type": "code",
      "execution_count": 8,
      "metadata": {
        "id": "sCtvnkAaCoah"
      },
      "outputs": [],
      "source": [
        "seed = 42\n",
        "import tensorflow as tf\n",
        "tf.compat.v1.set_random_seed(seed)"
      ]
    },
    {
      "cell_type": "code",
      "execution_count": 9,
      "metadata": {
        "id": "zrmorVbICoah"
      },
      "outputs": [],
      "source": [
        "PATH = \"/content/recordings/\"\n",
        "LATENT_DIM = 2"
      ]
    },
    {
      "cell_type": "code",
      "execution_count": 37,
      "metadata": {
        "id": "XNPTBcZBCoai"
      },
      "outputs": [],
      "source": [
        "'''\n",
        "Classes for preprocessing:\n",
        "\n",
        "'''\n",
        "\n",
        "class Loader:\n",
        "    def __init__(self,sample_rate, duration, mono) -> None:\n",
        "        self.sample_rate = sample_rate\n",
        "        self.duration = duration # only load up to this much audio (in seconds)\n",
        "        self.mono = mono\n",
        "        self._num_expected_samples = int(sample_rate * duration)\n",
        "\n",
        "    def __init__(self) -> None:\n",
        "        self.sample_rate = 22050\n",
        "        self.duration=0.81\n",
        "        self.mono = True\n",
        "        self._num_expected_samples = int(self.sample_rate * self.duration)\n",
        "\n",
        "\n",
        "\n",
        "    def load(self, file_path):\n",
        "        # Load an audio file as a floating point time series.\n",
        "        signal , sampling_rate = librosa.load(file_path,sr=self.sample_rate, duration=self.duration, mono = self.mono)\n",
        "        return signal\n",
        "\n",
        "\n"
      ]
    },
    {
      "cell_type": "code",
      "source": [
        "class LogSpectrogramExtractor:\n",
        "    \"\"\"LogSpectrogramExtractor extracts log spectrograms (in dB) from a\n",
        "    time-series signal.\n",
        "    \"\"\"\n",
        "    def __init__(self, frame_size, hop_length):\n",
        "        self.frame_size = frame_size\n",
        "        self.hop_length = hop_length\n",
        "\n",
        "    def extract(self, signal):\n",
        "        stft = librosa.stft(signal,\n",
        "                            n_fft=self.frame_size,\n",
        "                            hop_length=self.hop_length)[:-1]\n",
        "\n",
        "        spectrogram = np.abs(stft)\n",
        "        log_spectrogram = librosa.amplitude_to_db(spectrogram)\n",
        "        return log_spectrogram\n",
        "\n"
      ],
      "metadata": {
        "id": "7XwUv7e_f5j0"
      },
      "execution_count": 38,
      "outputs": []
    },
    {
      "cell_type": "code",
      "source": [
        "class Audio_utils:\n",
        "    def __init__(self) -> None:\n",
        "        self.min = 0\n",
        "        self.max = 1\n",
        "        self.min_max_values = {}\n",
        "        self._num_expected_samples = None\n",
        "\n",
        "    def setEXP_SAMPLES(self, value):\n",
        "        self.EXP_SAMPLES=value\n",
        "\n",
        "    def _is_padding_necessary(self, signal):\n",
        "        if len(signal) < self.EXP_SAMPLES:\n",
        "            return True\n",
        "        return False\n",
        "\n",
        "    def _apply_padding(self, signal):\n",
        "        num_missing_samples = self.EXP_SAMPLES - len(signal)\n",
        "        padded_signal = self.right_pad(signal, num_missing_samples)\n",
        "        return padded_signal\n",
        "\n",
        "    def right_pad(self, array, num_missing_items):\n",
        "        padded_array = np.pad(array,\n",
        "                              (0, num_missing_items))\n",
        "        return padded_array\n",
        "\n",
        "    ##############################################################\n",
        "\n",
        "    def normalise(self, array):\n",
        "        norm_array = (array - array.min()) / (array.max() - array.min())\n",
        "        norm_array = norm_array * (self.max - self.min) + self.min\n",
        "        return norm_array\n",
        "\n",
        "    ##############################################################\n",
        "\n",
        "\n",
        "    def generate_save_path(self, file_name):\n",
        "        feature_save_dir = \"./Spectrograms/\"\n",
        "        save_path = os.path.join(feature_save_dir, file_name + \".npy\")\n",
        "        return save_path\n",
        "\n",
        "    def save_feature(self, feature, file_name):\n",
        "        save_path = self.generate_save_path(file_name)\n",
        "        np.save(save_path, feature)\n",
        "\n",
        "    def save_min_max_values(self):\n",
        "        save_path = os.path.join(\"min_max\",\n",
        "                                 \"min_max_values.pkl\")\n",
        "        with open(save_path, \"wb\") as f:\n",
        "            pickle.dump(self.min_max_values, f)\n",
        "\n",
        "    def store_min_max_value(self, save_path, min_val, max_val):\n",
        "\n",
        "        self.min_max_values[save_path] = {\n",
        "            \"min\": min_val,\n",
        "            \"max\": max_val\n",
        "        }\n"
      ],
      "metadata": {
        "id": "9KNH45oof21y"
      },
      "execution_count": 39,
      "outputs": []
    },
    {
      "cell_type": "markdown",
      "source": [
        "Let's start with testing some important methods:"
      ],
      "metadata": {
        "id": "tfZTT9UrZlnu"
      }
    },
    {
      "cell_type": "code",
      "execution_count": 40,
      "metadata": {
        "id": "3AbhasSNCoai"
      },
      "outputs": [],
      "source": [
        "l = Loader()\n",
        "sample = l.load(file_path=\"/content/recordings/0_george_0.wav\")"
      ]
    },
    {
      "cell_type": "code",
      "execution_count": 41,
      "metadata": {
        "colab": {
          "base_uri": "https://localhost:8080/",
          "height": 52
        },
        "id": "oHD7EJn8Coaj",
        "outputId": "b92ab528-e6d5-4023-8e62-86c35144c27d"
      },
      "outputs": [
        {
          "output_type": "execute_result",
          "data": {
            "text/plain": [
              "<IPython.lib.display.Audio object>"
            ],
            "text/html": [
              "\n",
              "                <audio  controls=\"controls\" >\n",
              "                    <source src=\"data:audio/wav;base64,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\" type=\"audio/wav\" />\n",
              "                    Your browser does not support the audio element.\n",
              "                </audio>\n",
              "              "
            ]
          },
          "metadata": {},
          "execution_count": 41
        }
      ],
      "source": [
        "ipd.Audio(sample,rate=l.sample_rate)"
      ]
    },
    {
      "cell_type": "code",
      "execution_count": 42,
      "metadata": {
        "id": "b44SPmLGCoaj"
      },
      "outputs": [],
      "source": [
        "# Define frame size and hop length\n",
        "frame_size = 1024  # Number of samples per frame\n",
        "hop_length = 256   # Number of samples between frames\n",
        "sp = LogSpectrogramExtractor(frame_size=frame_size,hop_length=hop_length)\n",
        "s = sp.extract(sample)"
      ]
    },
    {
      "cell_type": "code",
      "source": [
        "from IPython.display import Audio\n",
        "# log spectrogram -> spectrogram\n",
        "spec = librosa.db_to_amplitude(s)\n",
        "# apply Griffin-Lim\n",
        "signal = librosa.istft(spec, hop_length=hop_length)\n",
        "Audio(signal,rate=l.sample_rate)"
      ],
      "metadata": {
        "colab": {
          "base_uri": "https://localhost:8080/",
          "height": 52
        },
        "id": "HuDuR45WYxeD",
        "outputId": "47a1ad66-6779-4d74-811c-51dbb7a5d68d"
      },
      "execution_count": 43,
      "outputs": [
        {
          "output_type": "execute_result",
          "data": {
            "text/plain": [
              "<IPython.lib.display.Audio object>"
            ],
            "text/html": [
              "\n",
              "                <audio  controls=\"controls\" >\n",
              "                    <source src=\"data:audio/wav;base64,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\" type=\"audio/wav\" />\n",
              "                    Your browser does not support the audio element.\n",
              "                </audio>\n",
              "              "
            ]
          },
          "metadata": {},
          "execution_count": 43
        }
      ]
    },
    {
      "cell_type": "code",
      "execution_count": 44,
      "metadata": {
        "colab": {
          "base_uri": "https://localhost:8080/",
          "height": 435
        },
        "id": "1-MUrDYCCoaj",
        "outputId": "5ba705ae-0361-454d-93fb-25c284c2760f"
      },
      "outputs": [
        {
          "output_type": "display_data",
          "data": {
            "text/plain": [
              "<Figure size 640x480 with 1 Axes>"
            ],
            "image/png": "[encoded data removed]"
          },
          "metadata": {}
        }
      ],
      "source": [
        "u = Audio_utils()\n",
        "s1 = u.normalise(s)\n",
        "plt.imshow(s1)\n",
        "plt.show()"
      ]
    },
    {
      "cell_type": "markdown",
      "metadata": {
        "id": "_1Jwn4W3Coaj"
      },
      "source": [
        "Some notes about Spectograms:\n",
        "- They are generated using the Fourier Transform;\n",
        "- Moreover using the Short-Fourier Transform since we define a frame(window) and compute the fourier transform on each segment;\n",
        "- In this way, the Spectogram encoded also the information about how the frequency components change over time\n",
        "\n",
        "Which are the output of the Fourier transform?\n",
        "- a magnitude (expressing the similarity between the signal/segment and a sinuosoid with a given frequency)\n",
        "- basically the obtained magnitudes for each frame are grouped and they generated a frequency vector"
      ]
    },
    {
      "cell_type": "markdown",
      "metadata": {
        "id": "TViyNB4tCoak"
      },
      "source": [
        "# Let's process the data"
      ]
    },
    {
      "cell_type": "code",
      "execution_count": 45,
      "metadata": {
        "id": "XCYv3CAcCoak"
      },
      "outputs": [],
      "source": [
        "import os\n",
        "\n",
        "audio_loader = Loader()\n",
        "EXP_SAMPLES = audio_loader._num_expected_samples\n",
        "######################################################################\n",
        "\n",
        "# Define frame size and hop length\n",
        "frame_size = 512 # Number of samples per frame\n",
        "hop_length = 256   # Number of samples between frames\n",
        "audio_spectr = LogSpectrogramExtractor(frame_size=frame_size,hop_length=hop_length)\n",
        "######################################################################\n",
        "\n",
        "audio_utils = Audio_utils()\n",
        "audio_utils.setEXP_SAMPLES(EXP_SAMPLES)\n",
        "######################################################################\n",
        "\n",
        "\n",
        "# Saving the features\n",
        "for root, _, files in os.walk(PATH):\n",
        "    for file in files:\n",
        "        file_path = os.path.join(root, file)\n",
        "        signal = audio_loader.load(file_path=file_path)\n",
        "        # We need to perform padding on the signal!\n",
        "        ##############################################\n",
        "        if audio_utils._is_padding_necessary(signal):\n",
        "            signal = audio_utils._apply_padding(signal)\n",
        "        ##############################################\n",
        "        spect = audio_spectr.extract(signal)\n",
        "        norm_spect = audio_utils.normalise(spect)\n",
        "        audio_utils.save_feature(norm_spect,file_name=file)\n",
        "        ##############################################\n",
        "\n",
        "        audio_utils.store_min_max_value(file,  spect.min(),  spect.max()) # for each spectrogram i save the min and the max\n",
        "        audio_utils.save_min_max_values()\n"
      ]
    },
    {
      "cell_type": "markdown",
      "source": [
        "Since i want to generate new music i need a denormalization process. Therefore, I need to take the mean of the min and max values"
      ],
      "metadata": {
        "id": "m1kX_GAdaKUr"
      }
    },
    {
      "cell_type": "code",
      "source": [
        "data = audio_utils.min_max_values\n",
        "min_values = [inner_dict['min'] for inner_dict in data.values()]\n",
        "max_values = [inner_dict['max'] for inner_dict in data.values()]\n",
        "\n",
        "min_values_np = np.array(min_values)\n",
        "max_values_np = np.array(max_values)\n",
        "\n",
        "# Calculate the mean using NumPy\n",
        "mean_min = np.mean(min_values_np)\n",
        "mean_max = np.mean(max_values_np)\n"
      ],
      "metadata": {
        "id": "xpiUZz6pYNQW"
      },
      "execution_count": 46,
      "outputs": []
    },
    {
      "cell_type": "markdown",
      "source": [
        "Here, I need to split in train and val in order to test how good the chosen hyperparameters are"
      ],
      "metadata": {
        "id": "nK8g1VOOhFOB"
      }
    },
    {
      "cell_type": "code",
      "source": [
        "spect_names = list(os.listdir(\"/content/Spectrograms\"))"
      ],
      "metadata": {
        "id": "5tiAEtAFi5g-"
      },
      "execution_count": 47,
      "outputs": []
    },
    {
      "cell_type": "code",
      "source": [
        "from sklearn.model_selection import train_test_split\n",
        "\n",
        "X_train_path, X_test_path = train_test_split(spect_names, test_size=0.2, random_state=42)"
      ],
      "metadata": {
        "id": "fw6JuoPBhEmt"
      },
      "execution_count": 48,
      "outputs": []
    },
    {
      "cell_type": "markdown",
      "metadata": {
        "id": "2LvnNUyeCoal"
      },
      "source": [
        "Let's train the model"
      ]
    },
    {
      "cell_type": "code",
      "execution_count": 49,
      "metadata": {
        "id": "5-3_UtH8Coal",
        "colab": {
          "base_uri": "https://localhost:8080/"
        },
        "outputId": "5c5c0444-114f-4a89-bfbd-1d284c8800aa"
      },
      "outputs": [
        {
          "output_type": "stream",
          "name": "stdout",
          "text": [
            "(256, 70)\n",
            "(256, 70)\n"
          ]
        }
      ],
      "source": [
        "spectrograms_path = \"/content/Spectrograms\"\n",
        "x_train = []\n",
        "for root, _, file_names in os.walk(spectrograms_path):\n",
        "    for file_name in X_train_path:\n",
        "        file_path = os.path.join(root, file_name)\n",
        "        spectrogram = np.load(file_path) # (512, 862), a simple matrix\n",
        "        x_train.append(spectrogram) # (2400, 512, 862)\n",
        "\n",
        "x_test = []\n",
        "for root, _, file_names in os.walk(spectrograms_path):\n",
        "    for file_name in X_test_path:\n",
        "        file_path = os.path.join(root, file_name)\n",
        "        spectrogram = np.load(file_path) # (512, 862), a simple matrix\n",
        "        x_test.append(spectrogram) # (600, 512, 862)\n",
        "\n",
        "print(x_train[0].shape)\n",
        "print(x_test[0].shape)\n"
      ]
    },
    {
      "cell_type": "code",
      "execution_count": 51,
      "metadata": {
        "id": "WZmOWeXPCoal"
      },
      "outputs": [],
      "source": [
        "x_train = np.array(x_train)\n",
        "x_train = x_train[..., np.newaxis] # -> (100, 512, 862, 1)\n",
        "\n",
        "x_test = np.array(x_test)\n",
        "x_test = x_test[..., np.newaxis] # -> (100, 512, 862, 1)"
      ]
    },
    {
      "cell_type": "code",
      "execution_count": 52,
      "metadata": {
        "colab": {
          "base_uri": "https://localhost:8080/"
        },
        "id": "G_h6tPjxCoam",
        "outputId": "c55235e7-5b21-4510-817e-b4e946fe6e2c"
      },
      "outputs": [
        {
          "output_type": "stream",
          "name": "stdout",
          "text": [
            "<class 'numpy.ndarray'>\n",
            "(2400, 256, 70, 1)\n",
            "<class 'numpy.ndarray'>\n",
            "(600, 256, 70, 1)\n"
          ]
        }
      ],
      "source": [
        "# Verify the shape and type of x_train\n",
        "print(type(x_train))  # Should print <class 'numpy.ndarray'>\n",
        "print(x_train.shape)  # Should print (2400, 512, 862, 1)\n",
        "\n",
        "# Verify the shape and type of x_train\n",
        "print(type(x_test))  # Should print <class 'numpy.ndarray'>\n",
        "print(x_test.shape)  # Should print (600, 512, 862, 1)"
      ]
    },
    {
      "cell_type": "markdown",
      "metadata": {
        "id": "F-yW6Yd1Coam"
      },
      "source": [
        "now we are ready to train a model, since we have a numpy array with each element a matrix of 1 dimension"
      ]
    },
    {
      "cell_type": "markdown",
      "metadata": {
        "id": "9TZxXQoBCoam"
      },
      "source": [
        "# Model"
      ]
    },
    {
      "cell_type": "markdown",
      "metadata": {
        "id": "mhkhJCyLCoan"
      },
      "source": [
        "we use a VAE model.\n",
        "\n",
        "- Features:\n",
        "    - Encoder\n",
        "        - Given an input, it outputs a set of parameters defining a posterior distribution ( the mean and the log variance)\n",
        "        - Basically, it samples from this distro and then pass the new vector to the decoder.\n",
        "        - Yet, there is the need of a constraint here. Otherwise, the latent space can be without meaning if is too sparse. This is achieved by adding a regularization term to the loss function, encouraging the latent space to follow a standard normal distribution.\n",
        "    - Decoder\n",
        "        - This takes the sample and outputs the final output.\n",
        "        - Basically, it defines a conditional distro which takes the latent sample as input and outputs the final result.\n",
        "\n",
        "    - Reparameterization:\n",
        "        - How to backpropagate a sampling operation (Non- differentiability operation)?\n",
        "            - using reparameterization: z = mean + variance * Eps (Eps is from a standard normal)\n",
        "            -  z is now a deterministic operation of the encoder's outputs and some noise;\n",
        "            -  Then we can backpropagate on the mean and the variance\n",
        "        - the core idea is: instead of just sampling from the gaussian distro, the encoder outputs the mean and the variance of it. In this way using the reparameterization trick(scaling and shifting from a standard normal) we can backpropagate obtaining a sample from the original gaussian distro.\n",
        "\n",
        "    - Basically, in VAE the goal is to learnt a latent space that approximate a standard normal distro (in this way we have sth continuous) and that minimize the reconstruction loss.\n",
        "        - The KV divergence set the posterior (normal) toward the prior (standard normal)\n",
        "        - the reconstruction loss make it better"
      ]
    },
    {
      "cell_type": "code",
      "execution_count": 54,
      "metadata": {
        "colab": {
          "base_uri": "https://localhost:8080/"
        },
        "id": "nAGd95O5Coan",
        "outputId": "0b76e30d-3e52-4214-bf68-a85b3d9c4f8e"
      },
      "outputs": [
        {
          "output_type": "stream",
          "name": "stdout",
          "text": [
            "Model: \"encoder\"\n",
            "__________________________________________________________________________________________________\n",
            " Layer (type)                Output Shape                 Param #   Connected to                  \n",
            "==================================================================================================\n",
            " encoder_input (InputLayer)  [(None, 256, 70, 1)]         0         []                            \n",
            "                                                                                                  \n",
            " conv2d (Conv2D)             (None, 256, 70, 32)          320       ['encoder_input[0][0]']       \n",
            "                                                                                                  \n",
            " conv2d_1 (Conv2D)           (None, 128, 35, 64)          18496     ['conv2d[0][0]']              \n",
            "                                                                                                  \n",
            " conv2d_2 (Conv2D)           (None, 128, 35, 64)          36928     ['conv2d_1[0][0]']            \n",
            "                                                                                                  \n",
            " conv2d_3 (Conv2D)           (None, 128, 35, 64)          36928     ['conv2d_2[0][0]']            \n",
            "                                                                                                  \n",
            " flatten (Flatten)           (None, 286720)               0         ['conv2d_3[0][0]']            \n",
            "                                                                                                  \n",
            " dense (Dense)               (None, 32)                   9175072   ['flatten[0][0]']             \n",
            "                                                                                                  \n",
            " latent_mu (Dense)           (None, 2)                    66        ['dense[0][0]']               \n",
            "                                                                                                  \n",
            " latent_sigma (Dense)        (None, 2)                    66        ['dense[0][0]']               \n",
            "                                                                                                  \n",
            " kl_divergence_layer (KLDiv  [(None, 2),                  0         ['latent_mu[0][0]',           \n",
            " ergenceLayer)                (None, 2)]                             'latent_sigma[0][0]']        \n",
            "                                                                                                  \n",
            " encoder_output (Lambda)     (None, 2)                    0         ['kl_divergence_layer[0][0]', \n",
            "                                                                     'kl_divergence_layer[0][1]'] \n",
            "                                                                                                  \n",
            "==================================================================================================\n",
            "Total params: 9267876 (35.35 MB)\n",
            "Trainable params: 9267876 (35.35 MB)\n",
            "Non-trainable params: 0 (0.00 Byte)\n",
            "__________________________________________________________________________________________________\n",
            "Model: \"decoder\"\n",
            "_________________________________________________________________\n",
            " Layer (type)                Output Shape              Param #   \n",
            "=================================================================\n",
            " decoder_input (InputLayer)  [(None, 2)]               0         \n",
            "                                                                 \n",
            " dense_1 (Dense)             (None, 286720)            860160    \n",
            "                                                                 \n",
            " reshape (Reshape)           (None, 128, 35, 64)       0         \n",
            "                                                                 \n",
            " conv2d_transpose (Conv2DTr  (None, 256, 70, 64)       36928     \n",
            " anspose)                                                        \n",
            "                                                                 \n",
            " conv2d_transpose_1 (Conv2D  (None, 256, 70, 32)       18464     \n",
            " Transpose)                                                      \n",
            "                                                                 \n",
            " decoder_output (Conv2DTran  (None, 256, 70, 1)        289       \n",
            " spose)                                                          \n",
            "                                                                 \n",
            "=================================================================\n",
            "Total params: 915841 (3.49 MB)\n",
            "Trainable params: 915841 (3.49 MB)\n",
            "Non-trainable params: 0 (0.00 Byte)\n",
            "_________________________________________________________________\n"
          ]
        }
      ],
      "source": [
        "from VAE import VAE\n",
        "model = VAE((256, 70,1),2)"
      ]
    },
    {
      "cell_type": "code",
      "execution_count": 55,
      "metadata": {
        "colab": {
          "base_uri": "https://localhost:8080/"
        },
        "id": "RR2sqSBRCoan",
        "outputId": "a725d513-a6c2-44ca-f6db-64e68a606c8e"
      },
      "outputs": [
        {
          "output_type": "execute_result",
          "data": {
            "text/plain": [
              "(2400, 256, 70, 1)"
            ]
          },
          "metadata": {},
          "execution_count": 55
        }
      ],
      "source": [
        "x_train.shape"
      ]
    },
    {
      "cell_type": "code",
      "execution_count": null,
      "metadata": {
        "id": "knpAKAnoCoao"
      },
      "outputs": [],
      "source": [
        "model.compile()\n",
        "model.train(x_train, x_test, 16,50)"
      ]
    },
    {
      "cell_type": "markdown",
      "source": [
        "The Griffin-Lim algorithm is commonly used when you have only the magnitude spectrogram and not the phase information. It iteratively estimates the phase, enabling reconstruction of an audio signal from a magnitude spectrogram alone."
      ],
      "metadata": {
        "id": "FAJMEF5_dhcr"
      }
    },
    {
      "cell_type": "code",
      "execution_count": 77,
      "metadata": {
        "id": "nUfsrkJCCoao"
      },
      "outputs": [],
      "source": [
        "import numpy as np\n",
        "import librosa\n",
        "\n",
        "class Sound:\n",
        "    def __init__(self, num_samples, latent_dim, model) -> None:\n",
        "        self.num_samples = num_samples\n",
        "        self.latent_dim = latent_dim\n",
        "        self.decoder = model.decoder\n",
        "\n",
        "    def predict(self):\n",
        "        latent_points = np.random.normal(size=(self.num_samples, self.latent_dim))\n",
        "        preds = self.decoder.predict(latent_points)\n",
        "        preds = preds.reshape(preds.shape[1], preds.shape[2]) # this keeps the row order\n",
        "        sounds = self.spectrogram_to_sound(preds)\n",
        "        return sounds\n",
        "\n",
        "    def denormalise(self, norm_array, original_min, original_max):\n",
        "        array = (norm_array - 0) / (1 - 0)\n",
        "        array = array * (original_max - original_min) + original_min\n",
        "        return array\n",
        "\n",
        "    def spectrogram_to_sound(self, spec,):\n",
        "        hop_length = 256  # Hop length\n",
        "\n",
        "        spec = self.denormalise(spec,mean_min,mean_max)\n",
        "        # log spectrogram -> spectrogram\n",
        "        spec = librosa.db_to_amplitude(spec)\n",
        "        # apply Griffin-Lim\n",
        "        signal = librosa.istft(spec, hop_length=hop_length)\n",
        "\n",
        "        return signal\n",
        "\n"
      ]
    },
    {
      "cell_type": "code",
      "execution_count": 78,
      "metadata": {
        "id": "6H1ztdj0Coao",
        "colab": {
          "base_uri": "https://localhost:8080/"
        },
        "outputId": "be3657f2-570f-482f-be82-7b825f9f7cfe"
      },
      "outputs": [
        {
          "output_type": "stream",
          "name": "stdout",
          "text": [
            "1/1 [==============================] - 0s 24ms/step\n"
          ]
        }
      ],
      "source": [
        "s = Sound(1,2,model)\n",
        "sound = s.predict()"
      ]
    },
    {
      "cell_type": "code",
      "source": [
        "from IPython.display import Audio\n",
        "Audio(sound,rate=audio_loader.sample_rate)"
      ],
      "metadata": {
        "colab": {
          "base_uri": "https://localhost:8080/",
          "height": 52
        },
        "id": "-JuSZMiDx159",
        "outputId": "e918a078-634b-460c-a016-70eb0964b3b2"
      },
      "execution_count": 80,
      "outputs": [
        {
          "output_type": "execute_result",
          "data": {
            "text/plain": [
              "<IPython.lib.display.Audio object>"
            ],
            "text/html": [
              "\n",
              "                <audio  controls=\"controls\" >\n",
              "                    <source src=\"data:audio/wav;base64,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\" type=\"audio/wav\" />\n",
              "                    Your browser does not support the audio element.\n",
              "                </audio>\n",
              "              "
            ]
          },
          "metadata": {},
          "execution_count": 80
        }
      ]
    },
    {
      "cell_type": "code",
      "source": [],
      "metadata": {
        "id": "fMrbVd1WzriN"
      },
      "execution_count": null,
      "outputs": []
    }
  ],
  "metadata": {
    "colab": {
      "provenance": [],
      "machine_shape": "hm",
      "gpuType": "L4",
      "include_colab_link": true
    },
    "kernelspec": {
      "display_name": "Python 3",
      "name": "python3"
    },
    "language_info": {
      "codemirror_mode": {
        "name": "ipython",
        "version": 3
      },
      "file_extension": ".py",
      "mimetype": "text/x-python",
      "name": "python",
      "nbconvert_exporter": "python",
      "pygments_lexer": "ipython3",
      "version": "3.8.19"
    },
    "accelerator": "GPU"
  },
  "nbformat": 4,
  "nbformat_minor": 0
}